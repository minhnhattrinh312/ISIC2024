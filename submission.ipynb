{
 "cells": [
  {
   "cell_type": "code",
   "execution_count": 1,
   "metadata": {},
   "outputs": [
    {
     "name": "stderr",
     "output_type": "stream",
     "text": [
      "/home/nhattm/.conda/envs/isic/lib/python3.10/site-packages/tqdm/auto.py:21: TqdmWarning: IProgress not found. Please update jupyter and ipywidgets. See https://ipywidgets.readthedocs.io/en/stable/user_install.html\n",
      "  from .autonotebook import tqdm as notebook_tqdm\n"
     ]
    }
   ],
   "source": [
    "# This Python 3 environment comes with many helpful analytics libraries installed\n",
    "# It is defined by the kaggle/python Docker image: https://github.com/kaggle/docker-python\n",
    "# For example, here's several helpful packages to load\n",
    "\n",
    "import numpy as np  # linear algebra\n",
    "import pandas as pd  # data processing, CSV file I/O (e.g. pd.read_csv)\n",
    "from PIL import Image\n",
    "from io import BytesIO\n",
    "import os\n",
    "import sys\n",
    "from torchvision import transforms\n",
    "from torch.utils.data import Dataset\n",
    "import torch._dynamo\n",
    "\n",
    "# torch._dynamo.config.suppress_errors = True\n",
    "sys.path.append(\"./ISIC2024/\")\n",
    "import timm\n",
    "from IPython.display import clear_output\n",
    "import h5py\n",
    "import io\n",
    "from tqdm import tqdm\n",
    "from classification import *\n",
    "from lightning.pytorch import Trainer\n",
    "from torch.utils.data import DataLoader\n",
    "\n",
    "\n",
    "torch.set_float32_matmul_precision(\"high\")\n",
    "\n",
    "TEST_METADATA = \"./dataset/data2024/test-metadata.csv\"\n",
    "TEST_HDF5 = \"./dataset/data2024/test-image.hdf5\"\n",
    "TEST_SUBMISSION = \"./dataset/data2024/sample_submission.csv\"\n",
    "# Input data files are available in the read-only \"../input/\" directory\n",
    "# For example, running this (by clicking run or pressing Shift+Enter) will list all files under the input directory\n",
    "# You can write up to 20GB to the current directory (/kaggle/working/) that gets preserved as output when you create a version using \"Save & Run All\"\n",
    "# You can also write temporary files to /kaggle/temp/, but they won't be saved outside of the current session"
   ]
  },
  {
   "cell_type": "code",
   "execution_count": 2,
   "metadata": {},
   "outputs": [],
   "source": [
    "def read_images_from_hdf5(file_path):\n",
    "    images = {}\n",
    "    try:\n",
    "        with h5py.File(file_path, \"r\") as file:\n",
    "            for key in tqdm(file.keys(), desc=\"Reading Files\"):\n",
    "                try:\n",
    "                    image_data = file[key][()]\n",
    "                    image = Image.open(io.BytesIO(image_data))\n",
    "                    images[key] = image\n",
    "                except Exception as e:\n",
    "                    print(f\"Error! from {key}: {e}\")\n",
    "    except Exception as e:\n",
    "        print(f\"Error occured while reading files : {e}\")\n",
    "\n",
    "    return images\n",
    "\n",
    "\n",
    "def predict_images(model, dataloader, device):\n",
    "    model.eval()\n",
    "    all_preds = []\n",
    "\n",
    "    with torch.inference_mode():\n",
    "        for images in tqdm(dataloader, desc=\"Prediction Loop\"):\n",
    "            images = images.to(device)\n",
    "            preds = model(images)\n",
    "            all_preds.extend(preds.cpu().numpy()[:, 1])\n",
    "\n",
    "    return np.stack(all_preds)\n",
    "\n",
    "\n",
    "class ISIC_test_image(Dataset):\n",
    "    def __init__(self, pil_images, metadata):\n",
    "        self.pil_images = pil_images\n",
    "        self.isic_ids = metadata[\"isic_id\"].values\n",
    "\n",
    "    def __len__(self):\n",
    "        return len(self.isic_ids)\n",
    "\n",
    "    def __getitem__(self, idx):\n",
    "        image = self.pil_images[self.isic_ids[idx]].resize((224, 224))\n",
    "        image = transforms.ToTensor()(image)\n",
    "\n",
    "        return image"
   ]
  },
  {
   "cell_type": "code",
   "execution_count": 3,
   "metadata": {},
   "outputs": [
    {
     "name": "stderr",
     "output_type": "stream",
     "text": [
      "Reading Files: 100%|██████████| 3/3 [00:00<00:00, 355.23it/s]\n"
     ]
    }
   ],
   "source": [
    "test_images = read_images_from_hdf5(TEST_HDF5)\n",
    "test_metadata = pd.read_csv(TEST_METADATA)\n",
    "\n",
    "test_loader = ISIC_test_image(test_images, test_metadata)\n",
    "\n",
    "test_dataset = DataLoader(\n",
    "    test_loader,\n",
    "    batch_size=cfg.TRAIN.BATCH_SIZE,\n",
    "    num_workers=cfg.TRAIN.NUM_WORKERS,\n",
    "    prefetch_factor=cfg.TRAIN.PREFETCH_FACTOR,\n",
    "    shuffle=False,\n",
    ")"
   ]
  },
  {
   "cell_type": "code",
   "execution_count": 4,
   "metadata": {},
   "outputs": [
    {
     "name": "stdout",
     "output_type": "stream",
     "text": [
      "load checkpoint: ./weights_convnext_small/fold_1/ckpt_auc_0.1943-v1.ckpt\n"
     ]
    },
    {
     "name": "stderr",
     "output_type": "stream",
     "text": [
      "Prediction Loop: 100%|██████████| 1/1 [00:05<00:00,  5.85s/it]\n"
     ]
    },
    {
     "name": "stdout",
     "output_type": "stream",
     "text": [
      "load checkpoint: ./weights_convnext_small/fold_2/ckpt_auc_0.1943-v4.ckpt\n"
     ]
    },
    {
     "name": "stderr",
     "output_type": "stream",
     "text": [
      "Prediction Loop: 100%|██████████| 1/1 [00:00<00:00,  2.40it/s]\n"
     ]
    },
    {
     "name": "stdout",
     "output_type": "stream",
     "text": [
      "load checkpoint: ./weights_convnext_small/fold_3/ckpt_auc_0.1937.ckpt\n"
     ]
    },
    {
     "name": "stderr",
     "output_type": "stream",
     "text": [
      "Prediction Loop: 100%|██████████| 1/1 [00:00<00:00,  4.20it/s]\n"
     ]
    },
    {
     "name": "stdout",
     "output_type": "stream",
     "text": [
      "load checkpoint: ./weights_convnext_small/fold_4/ckpt_auc_0.1972-v3.ckpt\n"
     ]
    },
    {
     "name": "stderr",
     "output_type": "stream",
     "text": [
      "Prediction Loop: 100%|██████████| 1/1 [00:00<00:00,  3.71it/s]\n"
     ]
    },
    {
     "name": "stdout",
     "output_type": "stream",
     "text": [
      "load checkpoint: ./weights_convnext_small/fold_5/ckpt_recall_0.9606.ckpt\n"
     ]
    },
    {
     "name": "stderr",
     "output_type": "stream",
     "text": [
      "Prediction Loop: 100%|██████████| 1/1 [00:00<00:00,  3.92it/s]\n"
     ]
    }
   ],
   "source": [
    "device = torch.device(\"cuda\" if torch.cuda.is_available() else \"cpu\")\n",
    "model = convnext_small(\n",
    "    pretrained=cfg.TRAIN.PRETRAIN,\n",
    "    in_22k=cfg.TRAIN.CONVEXT.IN22K,\n",
    "    in_chans=cfg.DATA.IN_CHANNEL,\n",
    "    num_classes=cfg.DATA.NUM_CLASS,\n",
    "    drop_path_rate=cfg.TRAIN.CONVEXT.DROPOUT,\n",
    ")\n",
    "# model = torch.compile(model)\n",
    "classifier = Classifier(\n",
    "    model,\n",
    "    cfg.DATA.CLASS_WEIGHT,\n",
    "    cfg.DATA.NUM_CLASS,\n",
    "    cfg.OPT.LEARNING_RATE,\n",
    "    cfg.OPT.FACTOR_LR,\n",
    "    cfg.OPT.PATIENCE_LR,\n",
    ")\n",
    "classifier = classifier.to(device)\n",
    "sum_predictions = 0\n",
    "\n",
    "for fold in range(1, 6):\n",
    "    checkpoint_dict = {\n",
    "        \"fold1\": \"./weights_convnext_small/fold_1/ckpt_auc_0.1943-v1.ckpt\",\n",
    "        \"fold2\": \"./weights_convnext_small/fold_2/ckpt_auc_0.1943-v4.ckpt\",\n",
    "        \"fold3\": \"./weights_convnext_small/fold_3/ckpt_auc_0.1937.ckpt\",\n",
    "        \"fold4\": \"./weights_convnext_small/fold_4/ckpt_auc_0.1972-v3.ckpt\",\n",
    "        \"fold5\": \"./weights_convnext_small/fold_5/ckpt_recall_0.9606.ckpt\",\n",
    "    }\n",
    "\n",
    "    # Select the second checkpoint in the list (index 0)\n",
    "    checkpoint = checkpoint_dict[f\"fold{fold}\"]\n",
    "    print(f\"load checkpoint: {checkpoint}\")\n",
    "    # Load the model weights from the selected checkpoint\n",
    "    classifier = Classifier.load_from_checkpoint(\n",
    "        checkpoint_path=checkpoint,\n",
    "        model=model,\n",
    "        class_weight=cfg.DATA.CLASS_WEIGHT,\n",
    "        num_classes=cfg.DATA.NUM_CLASS,\n",
    "        learning_rate=cfg.OPT.LEARNING_RATE,\n",
    "        factor_lr=cfg.OPT.FACTOR_LR,\n",
    "        patience_lr=cfg.OPT.PATIENCE_LR,\n",
    "    )\n",
    "    test_predictions = predict_images(classifier, test_dataset, device)\n",
    "    sum_predictions += test_predictions\n",
    "\n",
    "sum_predictions /= 5"
   ]
  },
  {
   "cell_type": "code",
   "execution_count": 5,
   "metadata": {},
   "outputs": [],
   "source": [
    "example = pd.read_csv(TEST_SUBMISSION)\n",
    "example.target = test_predictions\n",
    "example.to_csv(\"submission.csv\", index=False)"
   ]
  }
 ],
 "metadata": {
  "kernelspec": {
   "display_name": "radon",
   "language": "python",
   "name": "python3"
  },
  "language_info": {
   "codemirror_mode": {
    "name": "ipython",
    "version": 3
   },
   "file_extension": ".py",
   "mimetype": "text/x-python",
   "name": "python",
   "nbconvert_exporter": "python",
   "pygments_lexer": "ipython3",
   "version": "3.10.12"
  }
 },
 "nbformat": 4,
 "nbformat_minor": 2
}
