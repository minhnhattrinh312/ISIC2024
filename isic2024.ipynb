{
 "cells": [
  {
   "cell_type": "code",
   "execution_count": 1,
   "id": "51e03e71",
   "metadata": {
    "_cell_guid": "b1076dfc-b9ad-4769-8c92-a6c4dae69d19",
    "_uuid": "8f2839f25d086af736a60e9eeb907d3b93b6e0e5",
    "execution": {
     "iopub.execute_input": "2024-08-04T01:08:09.347293Z",
     "iopub.status.busy": "2024-08-04T01:08:09.346869Z",
     "iopub.status.idle": "2024-08-04T01:08:41.602650Z",
     "shell.execute_reply": "2024-08-04T01:08:41.601382Z"
    },
    "papermill": {
     "duration": 32.264537,
     "end_time": "2024-08-04T01:08:41.605911",
     "exception": false,
     "start_time": "2024-08-04T01:08:09.341374",
     "status": "completed"
    },
    "tags": []
   },
   "outputs": [],
   "source": [
    "# This Python 3 environment comes with many helpful analytics libraries installed\n",
    "# It is defined by the kaggle/python Docker image: https://github.com/kaggle/docker-python\n",
    "# For example, here's several helpful packages to load\n",
    "from IPython.display import clear_output\n",
    "!pip install lightning yacs\n",
    "clear_output()\n",
    "import numpy as np  # linear algebra\n",
    "import pandas as pd  # data processing, CSV file I/O (e.g. pd.read_csv)\n",
    "from PIL import Image\n",
    "from io import BytesIO\n",
    "import os\n",
    "import sys\n",
    "from torchvision import transforms\n",
    "from torch.utils.data import Dataset\n",
    "import torch._dynamo\n",
    "\n",
    "# torch._dynamo.config.suppress_errors = True\n",
    "\n",
    "import timm\n",
    "sys.path.append(\"/kaggle/input/isic2024-git\")\n",
    "import h5py\n",
    "import io\n",
    "from tqdm import tqdm\n",
    "from classification import *\n",
    "from lightning.pytorch import Trainer\n",
    "from torch.utils.data import DataLoader\n",
    "\n",
    "\n",
    "torch.set_float32_matmul_precision(\"high\")\n",
    "def read_images_from_hdf5(file_path):\n",
    "    images = {}\n",
    "    try:\n",
    "        with h5py.File(file_path, \"r\") as file:\n",
    "            for key in tqdm(file.keys(), desc=\"Reading Files\"):\n",
    "                try:\n",
    "                    image_data = file[key][()]\n",
    "                    image = Image.open(io.BytesIO(image_data))\n",
    "                    images[key] = image\n",
    "                except Exception as e:\n",
    "                    print(f\"Error! from {key}: {e}\")\n",
    "    except Exception as e:\n",
    "        print(f\"Error occured while reading files : {e}\")\n",
    "\n",
    "    return images\n",
    "\n",
    "\n",
    "def predict_images(model, dataloader, device):\n",
    "    model.eval()\n",
    "    all_preds = []\n",
    "\n",
    "    with torch.inference_mode():\n",
    "        for images in tqdm(dataloader, desc=\"Prediction Loop\"):\n",
    "            images = images.to(device)\n",
    "            preds = model(images)\n",
    "            all_preds.extend(preds.cpu().numpy()[:, 1])\n",
    "\n",
    "    return np.stack(all_preds)\n",
    "\n",
    "\n",
    "class ISIC_test_image(Dataset):\n",
    "    def __init__(self, pil_images, metadata):\n",
    "        self.pil_images = pil_images\n",
    "        self.isic_ids = metadata[\"isic_id\"].values\n",
    "\n",
    "    def __len__(self):\n",
    "        return len(self.isic_ids)\n",
    "\n",
    "    def __getitem__(self, idx):\n",
    "        image = self.pil_images[self.isic_ids[idx]].resize((224, 224))\n",
    "        image = transforms.ToTensor()(image)\n",
    "\n",
    "        return image\n",
    "# Input data files are available in the read-only \"../input/\" directory\n",
    "# For example, running this (by clicking run or pressing Shift+Enter) will list all files under the input directory\n",
    "# You can write up to 20GB to the current directory (/kaggle/working/) that gets preserved as output when you create a version using \"Save & Run All\"\n",
    "# You can also write temporary files to /kaggle/temp/, but they won't be saved outside of the current session"
   ]
  },
  {
   "cell_type": "code",
   "execution_count": 2,
   "id": "ddc7b068",
   "metadata": {
    "execution": {
     "iopub.execute_input": "2024-08-04T01:08:41.615460Z",
     "iopub.status.busy": "2024-08-04T01:08:41.614630Z",
     "iopub.status.idle": "2024-08-04T01:08:41.621430Z",
     "shell.execute_reply": "2024-08-04T01:08:41.620041Z"
    },
    "papermill": {
     "duration": 0.014855,
     "end_time": "2024-08-04T01:08:41.624430",
     "exception": false,
     "start_time": "2024-08-04T01:08:41.609575",
     "status": "completed"
    },
    "tags": []
   },
   "outputs": [],
   "source": [
    "TEST_METADATA = \"/kaggle/input/isic-2024-challenge/test-metadata.csv\"\n",
    "TEST_HDF5 = \"/kaggle/input/isic-2024-challenge/test-image.hdf5\"\n",
    "TEST_SUBMISSION = \"/kaggle/input/isic-2024-challenge/sample_submission.csv\""
   ]
  },
  {
   "cell_type": "code",
   "execution_count": 3,
   "id": "7ed0b342",
   "metadata": {
    "execution": {
     "iopub.execute_input": "2024-08-04T01:08:41.633439Z",
     "iopub.status.busy": "2024-08-04T01:08:41.632963Z",
     "iopub.status.idle": "2024-08-04T01:08:41.694661Z",
     "shell.execute_reply": "2024-08-04T01:08:41.693336Z"
    },
    "papermill": {
     "duration": 0.069936,
     "end_time": "2024-08-04T01:08:41.697836",
     "exception": false,
     "start_time": "2024-08-04T01:08:41.627900",
     "status": "completed"
    },
    "tags": []
   },
   "outputs": [
    {
     "name": "stderr",
     "output_type": "stream",
     "text": [
      "Reading Files: 100%|██████████| 3/3 [00:00<00:00, 250.90it/s]\n"
     ]
    }
   ],
   "source": [
    "test_images = read_images_from_hdf5(TEST_HDF5)\n",
    "test_metadata = pd.read_csv(TEST_METADATA)\n",
    "\n",
    "test_loader = ISIC_test_image(test_images, test_metadata)\n",
    "\n",
    "test_dataset = DataLoader(\n",
    "    test_loader,\n",
    "    batch_size=32,\n",
    "    num_workers=4,\n",
    "    prefetch_factor=8,\n",
    "    shuffle=False,\n",
    ")"
   ]
  },
  {
   "cell_type": "code",
   "execution_count": 4,
   "id": "f150c954",
   "metadata": {
    "execution": {
     "iopub.execute_input": "2024-08-04T01:08:41.706899Z",
     "iopub.status.busy": "2024-08-04T01:08:41.706492Z",
     "iopub.status.idle": "2024-08-04T01:10:17.765132Z",
     "shell.execute_reply": "2024-08-04T01:10:17.763540Z"
    },
    "papermill": {
     "duration": 96.066603,
     "end_time": "2024-08-04T01:10:17.768100",
     "exception": false,
     "start_time": "2024-08-04T01:08:41.701497",
     "status": "completed"
    },
    "tags": []
   },
   "outputs": [
    {
     "name": "stdout",
     "output_type": "stream",
     "text": [
      "load checkpoint: /kaggle/input/convnext/pytorch/default/1/ckpt_auc_0.1943-v1.ckpt\n"
     ]
    },
    {
     "name": "stderr",
     "output_type": "stream",
     "text": [
      "Prediction Loop: 100%|██████████| 1/1 [01:20<00:00, 80.72s/it]\n"
     ]
    },
    {
     "name": "stdout",
     "output_type": "stream",
     "text": [
      "load checkpoint: /kaggle/input/convnext/pytorch/default/1/ckpt_auc_0.1943-v4.ckpt\n"
     ]
    },
    {
     "name": "stderr",
     "output_type": "stream",
     "text": [
      "Prediction Loop: 100%|██████████| 1/1 [00:00<00:00,  1.35it/s]\n"
     ]
    },
    {
     "name": "stdout",
     "output_type": "stream",
     "text": [
      "load checkpoint: /kaggle/input/convnext/pytorch/default/1/ckpt_auc_0.1937.ckpt\n"
     ]
    },
    {
     "name": "stderr",
     "output_type": "stream",
     "text": [
      "Prediction Loop: 100%|██████████| 1/1 [00:00<00:00,  1.29it/s]\n"
     ]
    },
    {
     "name": "stdout",
     "output_type": "stream",
     "text": [
      "load checkpoint: /kaggle/input/convnext/pytorch/default/1/ckpt_auc_0.1972-v3.ckpt\n"
     ]
    },
    {
     "name": "stderr",
     "output_type": "stream",
     "text": [
      "Prediction Loop: 100%|██████████| 1/1 [00:00<00:00,  1.18it/s]\n"
     ]
    },
    {
     "name": "stdout",
     "output_type": "stream",
     "text": [
      "load checkpoint: /kaggle/input/convnext/pytorch/default/1/ckpt_recall_0.9606.ckpt\n"
     ]
    },
    {
     "name": "stderr",
     "output_type": "stream",
     "text": [
      "Prediction Loop: 100%|██████████| 1/1 [00:00<00:00,  1.31it/s]\n"
     ]
    }
   ],
   "source": [
    "device = torch.device(\"cuda\" if torch.cuda.is_available() else \"cpu\")\n",
    "model = convnext_small(\n",
    "    pretrained=False,\n",
    "    in_22k=cfg.TRAIN.CONVEXT.IN22K,\n",
    "    in_chans=cfg.DATA.IN_CHANNEL,\n",
    "    num_classes=cfg.DATA.NUM_CLASS,\n",
    "    drop_path_rate=cfg.TRAIN.CONVEXT.DROPOUT,\n",
    ")\n",
    "# model = torch.compile(model)\n",
    "classifier = Classifier(\n",
    "    model,\n",
    "    cfg.DATA.CLASS_WEIGHT,\n",
    "    cfg.DATA.NUM_CLASS,\n",
    "    cfg.OPT.LEARNING_RATE,\n",
    "    cfg.OPT.FACTOR_LR,\n",
    "    cfg.OPT.PATIENCE_LR,\n",
    ")\n",
    "classifier = classifier.to(device)\n",
    "sum_predictions = 0\n",
    "\n",
    "for fold in range(1, 6):\n",
    "    checkpoint_dict = {\n",
    "        \"fold1\": \"/kaggle/input/convnext/pytorch/default/1/ckpt_auc_0.1943-v1.ckpt\",\n",
    "        \"fold2\": \"/kaggle/input/convnext/pytorch/default/1/ckpt_auc_0.1943-v4.ckpt\",\n",
    "        \"fold3\": \"/kaggle/input/convnext/pytorch/default/1/ckpt_auc_0.1937.ckpt\",\n",
    "        \"fold4\": \"/kaggle/input/convnext/pytorch/default/1/ckpt_auc_0.1972-v3.ckpt\",\n",
    "        \"fold5\": \"/kaggle/input/convnext/pytorch/default/1/ckpt_recall_0.9606.ckpt\",\n",
    "    }\n",
    "\n",
    "    # Select the second checkpoint in the list (index 0)\n",
    "    checkpoint = checkpoint_dict[f\"fold{fold}\"]\n",
    "    print(f\"load checkpoint: {checkpoint}\")\n",
    "    # Load the model weights from the selected checkpoint\n",
    "    classifier = Classifier.load_from_checkpoint(\n",
    "        checkpoint_path=checkpoint,\n",
    "        model=model,\n",
    "        class_weight=cfg.DATA.CLASS_WEIGHT,\n",
    "        num_classes=cfg.DATA.NUM_CLASS,\n",
    "        learning_rate=cfg.OPT.LEARNING_RATE,\n",
    "        factor_lr=cfg.OPT.FACTOR_LR,\n",
    "        patience_lr=cfg.OPT.PATIENCE_LR,\n",
    "    )\n",
    "    test_predictions = predict_images(classifier, test_dataset, device)\n",
    "    sum_predictions += test_predictions\n",
    "\n",
    "sum_predictions /= 5"
   ]
  },
  {
   "cell_type": "code",
   "execution_count": 5,
   "id": "80f3d1c1",
   "metadata": {
    "execution": {
     "iopub.execute_input": "2024-08-04T01:10:17.785598Z",
     "iopub.status.busy": "2024-08-04T01:10:17.783201Z",
     "iopub.status.idle": "2024-08-04T01:10:17.805895Z",
     "shell.execute_reply": "2024-08-04T01:10:17.804784Z"
    },
    "papermill": {
     "duration": 0.034485,
     "end_time": "2024-08-04T01:10:17.808855",
     "exception": false,
     "start_time": "2024-08-04T01:10:17.774370",
     "status": "completed"
    },
    "tags": []
   },
   "outputs": [],
   "source": [
    "example = pd.read_csv(TEST_SUBMISSION)\n",
    "example.target = test_predictions\n",
    "example.to_csv(\"submission.csv\", index=False)"
   ]
  }
 ],
 "metadata": {
  "kaggle": {
   "accelerator": "none",
   "dataSources": [
    {
     "databundleVersionId": 9094797,
     "sourceId": 63056,
     "sourceType": "competition"
    },
    {
     "datasetId": 5491495,
     "sourceId": 9099294,
     "sourceType": "datasetVersion"
    },
    {
     "modelId": 98935,
     "modelInstanceId": 74157,
     "sourceId": 88348,
     "sourceType": "modelInstanceVersion"
    }
   ],
   "isGpuEnabled": false,
   "isInternetEnabled": true,
   "language": "python",
   "sourceType": "notebook"
  },
  "kernelspec": {
   "display_name": "Python 3",
   "language": "python",
   "name": "python3"
  },
  "language_info": {
   "codemirror_mode": {
    "name": "ipython",
    "version": 3
   },
   "file_extension": ".py",
   "mimetype": "text/x-python",
   "name": "python",
   "nbconvert_exporter": "python",
   "pygments_lexer": "ipython3",
   "version": "3.10.13"
  },
  "papermill": {
   "default_parameters": {},
   "duration": 134.282803,
   "end_time": "2024-08-04T01:10:20.409374",
   "environment_variables": {},
   "exception": null,
   "input_path": "__notebook__.ipynb",
   "output_path": "__notebook__.ipynb",
   "parameters": {},
   "start_time": "2024-08-04T01:08:06.126571",
   "version": "2.5.0"
  }
 },
 "nbformat": 4,
 "nbformat_minor": 5
}
